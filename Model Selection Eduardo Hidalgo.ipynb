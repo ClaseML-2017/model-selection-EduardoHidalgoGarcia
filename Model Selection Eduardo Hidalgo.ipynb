{
 "cells": [
  {
   "cell_type": "code",
   "execution_count": 15,
   "metadata": {
    "collapsed": true
   },
   "outputs": [],
   "source": [
    "import pandas as pd\n",
    "import numpy as np\n",
    "import csv\n",
    "import random as rnd\n",
    "from sklearn.model_selection import train_test_split\n",
    "import matplotlib.pyplot as plt\n",
    "from sklearn import preprocessing\n",
    "%matplotlib inline\n",
    "import math\n",
    "import matplotlib.lines as line\n",
    "from random import uniform\n",
    "import math"
   ]
  },
  {
   "cell_type": "code",
   "execution_count": 16,
   "metadata": {
    "collapsed": true
   },
   "outputs": [],
   "source": [
    "df = pd.read_csv(\"reglinPoli2.csv\")"
   ]
  },
  {
   "cell_type": "code",
   "execution_count": 17,
   "metadata": {
    "collapsed": true
   },
   "outputs": [],
   "source": [
    "X_train,X_test,Y_train,Y_test=train_test_split(df[df.columns[0:-1]],df[[df.columns[-1]]],train_size=0.75)"
   ]
  },
  {
   "cell_type": "code",
   "execution_count": 18,
   "metadata": {},
   "outputs": [],
   "source": [
    "X_train=np.asarray(X_train)\n",
    "X_test=np.asarray(X_test)\n",
    "Y_train=np.asarray(Y_train)\n",
    "Y_test=np.asarray(Y_test)"
   ]
  },
  {
   "cell_type": "code",
   "execution_count": 9,
   "metadata": {
    "collapsed": true
   },
   "outputs": [],
   "source": [
    "## Normaliza los datos\n",
    "def normalize(X_train,X_test,Y_train,Y_test,do=True):\n",
    "    \n",
    "    scale_X=preprocessing.StandardScaler()\n",
    "    scale_y=preprocessing.StandardScaler()\n",
    "    \n",
    "    train_X=np.copy(X_train)\n",
    "    train_y=np.copy(Y_train)\n",
    "    test_X=np.copy(X_test)\n",
    "    test_y=np.copy(Y_test)\n",
    "    if do:\n",
    "        scale_X.fit(train_X)\n",
    "        scale_y.fit(train_y)\n",
    "        train_X=scale_X.transform(train_X)\n",
    "        train_y=scale_y.transform(train_y)\n",
    "        test_X=scale_X.transform(test_X)\n",
    "        test_y=scale_y.transform(test_y)\n",
    "    return train_X,test_X,train_y,test_y"
   ]
  },
  {
   "cell_type": "code",
   "execution_count": 19,
   "metadata": {},
   "outputs": [
    {
     "data": {
      "text/plain": [
       "array([[  9.30967264e+02,   8.66700047e+05,   2.96893441e+00, ...,\n",
       "         -8.70000000e+02,   8.80000000e+01,   2.90000000e+01],\n",
       "       [ -9.63363098e+02,   9.28068458e+05,   2.98379001e+00, ...,\n",
       "          1.32600000e+03,   1.26700000e+03,   1.22000000e+02],\n",
       "       [ -6.71214520e+00,   4.50528932e+01,   8.26861343e-01, ...,\n",
       "          3.49700000e+03,   1.15100000e+03,  -1.16000000e+02],\n",
       "       ..., \n",
       "       [ -9.92795572e+02,   9.85643047e+05,   2.99685983e+00, ...,\n",
       "          6.45000000e+02,  -5.68000000e+02,   1.22000000e+02],\n",
       "       [ -6.48854194e+02,   4.21011765e+05,   2.81214712e+00, ...,\n",
       "          7.06000000e+02,  -2.30300000e+03,   2.30000000e+01],\n",
       "       [ -5.57469104e+02,   3.10771802e+05,   2.74622080e+00, ...,\n",
       "         -6.44000000e+02,  -1.50800000e+03,  -1.54000000e+02]])"
      ]
     },
     "execution_count": 19,
     "metadata": {},
     "output_type": "execute_result"
    }
   ],
   "source": [
    "X_train"
   ]
  },
  {
   "cell_type": "code",
   "execution_count": 25,
   "metadata": {},
   "outputs": [],
   "source": [
    "train_X=normalize(X_train,X_test,Y_train,Y_test)[0]\n",
    "test_X=normalize(X_train,X_test,Y_train,Y_test)[1]\n",
    "train_Y=normalize(X_train,X_test,Y_train,Y_test)[2]\n",
    "test_Y=normalize(X_train,X_test,Y_train,Y_test)[3]"
   ]
  },
  {
   "cell_type": "code",
   "execution_count": 35,
   "metadata": {
    "collapsed": true
   },
   "outputs": [],
   "source": [
    "## Transfer Function\n",
    "def salida(w,X):\n",
    "    return X.dot(w[1:])+w[0]"
   ]
  },
  {
   "cell_type": "code",
   "execution_count": 41,
   "metadata": {
    "collapsed": true
   },
   "outputs": [],
   "source": [
    "## Trainning Function\n",
    "def entrena(X,y,w,la=0.0,eta=0.01):\n",
    "    \n",
    "    for i in range(len(X)-1):\n",
    "        error=y[i]-salida(w,X[i])\n",
    "        w[0]=w[0]+eta*error\n",
    "        w[1:]=w[1:]+eta*(error*X[i])-la*w[1:]\n",
    "    return w"
   ]
  },
  {
   "cell_type": "code",
   "execution_count": 30,
   "metadata": {
    "collapsed": true
   },
   "outputs": [],
   "source": [
    "## Error Function\n",
    "def calcError(X,y,w,w0):\n",
    "    return np.mean((X.dot(w)+w0-y)**2)"
   ]
  },
  {
   "cell_type": "code",
   "execution_count": 31,
   "metadata": {
    "collapsed": true
   },
   "outputs": [],
   "source": [
    "## Use\n",
    "train_X,test_X,train_y,test_y=normalize(X_train,X_test,Y_train,Y_test)"
   ]
  },
  {
   "cell_type": "code",
   "execution_count": 48,
   "metadata": {},
   "outputs": [],
   "source": [
    "w=np.asarray([rnd.random() for i in range(1+len(train_X[0]))])\n",
    "for i in range(100):\n",
    "    w=entrena(train_X,train_y,w,la=0.00)"
   ]
  },
  {
   "cell_type": "code",
   "execution_count": 49,
   "metadata": {},
   "outputs": [
    {
     "data": {
      "text/plain": [
       "array([ 0.11946658,  0.8109152 , -0.25299222,  0.57869034,  0.45215214,\n",
       "        0.01214273,  0.19264717,  0.43772757,  0.55833853,  0.53832058,\n",
       "       -0.11441429,  0.04130388,  0.05137615,  0.1041796 , -0.08214026,\n",
       "       -0.05326923, -0.02441143,  0.04352182, -0.09096904,  0.01917853,\n",
       "       -0.07302966,  0.06482978, -0.00997176, -0.00399389,  0.01078564,\n",
       "       -0.02189729, -0.00924175,  0.03896656,  0.01784623,  0.03165509,\n",
       "        0.0030931 ,  0.06123086,  0.04185752,  0.07976395, -0.0239664 ,\n",
       "        0.06187978, -0.05362231, -0.04883034, -0.08711661])"
      ]
     },
     "execution_count": 49,
     "metadata": {},
     "output_type": "execute_result"
    }
   ],
   "source": [
    "w"
   ]
  },
  {
   "cell_type": "code",
   "execution_count": 82,
   "metadata": {},
   "outputs": [
    {
     "name": "stdout",
     "output_type": "stream",
     "text": [
      "Error en el conjunto de entrenamiento\n",
      "0.52742442078\n"
     ]
    }
   ],
   "source": [
    "print('Error en el conjunto de entrenamiento')\n",
    "print(calcError(train_X,train_y.flatten(),w[1:],w[0]))\n"
   ]
  },
  {
   "cell_type": "code",
   "execution_count": 83,
   "metadata": {},
   "outputs": [
    {
     "name": "stdout",
     "output_type": "stream",
     "text": [
      "Error en el conjunto de prueba\n",
      "0.527152564138\n"
     ]
    }
   ],
   "source": [
    "print('Error en el conjunto de prueba')\n",
    "print(calcError(test_X,test_y.flatten(),w[1:],w[0]))"
   ]
  },
  {
   "cell_type": "code",
   "execution_count": 84,
   "metadata": {},
   "outputs": [
    {
     "name": "stdout",
     "output_type": "stream",
     "text": [
      "Diferencia en error entre conjunto de prueba y entrenamiento\n",
      "0.000271856641332\n"
     ]
    }
   ],
   "source": [
    "print('Diferencia en error entre conjunto de prueba y entrenamiento')\n",
    "print(abs(calcError(train_X,train_y.flatten(),w[1:],w[0])-calcError(test_X,test_y.flatten(),w[1:],w[0])))"
   ]
  },
  {
   "cell_type": "code",
   "execution_count": 45,
   "metadata": {
    "collapsed": true
   },
   "outputs": [],
   "source": [
    "k=7\n",
    "X_trainK=[]\n",
    "Y_trainK=[]\n",
    "X_train = pd.DataFrame(X_train)\n",
    "Y_train = pd.DataFrame(Y_train)\n",
    "norepeticiones=X_train.shape[0]\n",
    "for i in range (0,k):\n",
    "    X_trainK.append(X_train.iloc[int(i*norepeticiones/k):int((i+1)*norepeticiones/k)-1,:])\n",
    "    Y_trainK.append(Y_train.iloc[int(i*norepeticiones/k):int((i+1)*norepeticiones/k)-1,:])\n",
    "ConjuntoAprendizaje=[]\n",
    "ConjuntoValidacion=[]\n",
    "ConjuntoAprendEscalado=[]\n",
    "ConjuntoValEscalado=[]\n",
    "y_aprendizaje=[]\n",
    "y_Validacion=[]\n",
    "aux_X=[] ##guarda los dataframes X's antes de concatenarlos\n",
    "aux_y=[] ##guarda las series y´s antes de concatenarlas\n",
    "for i in range(0,k):\n",
    "    for j in range(0,k):\n",
    "        if j == i:\n",
    "            ConjuntoValidacion.append(X_trainK[j])\n",
    "            ConjuntoValidacion.append(Y_trainK[j])\n",
    "        else:\n",
    "            aux_X.append(X_trainK[j])\n",
    "            aux_y.append(Y_trainK[j])\n",
    "    ConjuntoAprendizaje.append(pd.concat(aux_X))\n",
    "    ConjuntoAprendizaje.append(pd.concat(aux_y))\n",
    "    aux_X=[]\n",
    "    aux_y=[]\n",
    "    \n",
    "    scaler=preprocessing.StandardScaler().fit(ConjuntoAprendizaje[i])\n",
    "    ConjuntoAprendEscalado.append(scaler.transform(ConjuntoAprendizaje[i]))\n",
    "    ConjuntoValEscalado.append(scaler.transform(ConjuntoValidacion[i]))\n",
    "\n",
    "    \n",
    "    "
   ]
  },
  {
   "cell_type": "code",
   "execution_count": 46,
   "metadata": {},
   "outputs": [
    {
     "ename": "IndexError",
     "evalue": "index 38 is out of bounds for axis 0 with size 38",
     "output_type": "error",
     "traceback": [
      "\u001b[1;31m---------------------------------------------------------------------------\u001b[0m",
      "\u001b[1;31mIndexError\u001b[0m                                Traceback (most recent call last)",
      "\u001b[1;32m<ipython-input-46-ca0babb3be82>\u001b[0m in \u001b[0;36m<module>\u001b[1;34m()\u001b[0m\n\u001b[0;32m      8\u001b[0m     \u001b[1;32mfor\u001b[0m \u001b[0ma\u001b[0m \u001b[1;32min\u001b[0m \u001b[0mrange\u001b[0m\u001b[1;33m(\u001b[0m\u001b[1;36m0\u001b[0m\u001b[1;33m,\u001b[0m\u001b[0mlen\u001b[0m\u001b[1;33m(\u001b[0m\u001b[0mConjuntoAprendEscalado\u001b[0m\u001b[1;33m[\u001b[0m\u001b[0mj\u001b[0m\u001b[1;33m]\u001b[0m\u001b[1;33m)\u001b[0m\u001b[1;33m)\u001b[0m\u001b[1;33m:\u001b[0m\u001b[1;33m\u001b[0m\u001b[0m\n\u001b[0;32m      9\u001b[0m         \u001b[0mxa0\u001b[0m\u001b[1;33m=\u001b[0m\u001b[1;33m[\u001b[0m\u001b[1;36m1\u001b[0m\u001b[1;33m]\u001b[0m\u001b[1;33m\u001b[0m\u001b[0m\n\u001b[1;32m---> 10\u001b[1;33m         \u001b[0mxademas\u001b[0m\u001b[1;33m=\u001b[0m\u001b[1;33m[\u001b[0m\u001b[0mConjuntoAprendEscalado\u001b[0m\u001b[1;33m[\u001b[0m\u001b[0mj\u001b[0m\u001b[1;33m]\u001b[0m\u001b[1;33m[\u001b[0m\u001b[0ma\u001b[0m\u001b[1;33m]\u001b[0m\u001b[1;33m[\u001b[0m\u001b[0mb\u001b[0m\u001b[1;33m]\u001b[0m \u001b[1;32mfor\u001b[0m \u001b[0mb\u001b[0m \u001b[1;32min\u001b[0m \u001b[0mrange\u001b[0m\u001b[1;33m(\u001b[0m\u001b[1;36m0\u001b[0m\u001b[1;33m,\u001b[0m\u001b[0mlen\u001b[0m\u001b[1;33m(\u001b[0m\u001b[0mX_train\u001b[0m\u001b[1;33m)\u001b[0m\u001b[1;33m)\u001b[0m\u001b[1;33m]\u001b[0m\u001b[1;33m\u001b[0m\u001b[0m\n\u001b[0m\u001b[0;32m     11\u001b[0m         \u001b[0mxa\u001b[0m\u001b[1;33m=\u001b[0m\u001b[0mxa0\u001b[0m\u001b[1;33m+\u001b[0m\u001b[0mxademas\u001b[0m\u001b[1;33m\u001b[0m\u001b[0m\n\u001b[0;32m     12\u001b[0m         \u001b[0mya\u001b[0m\u001b[1;33m=\u001b[0m\u001b[0my_aprendizaje\u001b[0m\u001b[1;33m\u001b[0m\u001b[0m\n",
      "\u001b[1;32m<ipython-input-46-ca0babb3be82>\u001b[0m in \u001b[0;36m<listcomp>\u001b[1;34m(.0)\u001b[0m\n\u001b[0;32m      8\u001b[0m     \u001b[1;32mfor\u001b[0m \u001b[0ma\u001b[0m \u001b[1;32min\u001b[0m \u001b[0mrange\u001b[0m\u001b[1;33m(\u001b[0m\u001b[1;36m0\u001b[0m\u001b[1;33m,\u001b[0m\u001b[0mlen\u001b[0m\u001b[1;33m(\u001b[0m\u001b[0mConjuntoAprendEscalado\u001b[0m\u001b[1;33m[\u001b[0m\u001b[0mj\u001b[0m\u001b[1;33m]\u001b[0m\u001b[1;33m)\u001b[0m\u001b[1;33m)\u001b[0m\u001b[1;33m:\u001b[0m\u001b[1;33m\u001b[0m\u001b[0m\n\u001b[0;32m      9\u001b[0m         \u001b[0mxa0\u001b[0m\u001b[1;33m=\u001b[0m\u001b[1;33m[\u001b[0m\u001b[1;36m1\u001b[0m\u001b[1;33m]\u001b[0m\u001b[1;33m\u001b[0m\u001b[0m\n\u001b[1;32m---> 10\u001b[1;33m         \u001b[0mxademas\u001b[0m\u001b[1;33m=\u001b[0m\u001b[1;33m[\u001b[0m\u001b[0mConjuntoAprendEscalado\u001b[0m\u001b[1;33m[\u001b[0m\u001b[0mj\u001b[0m\u001b[1;33m]\u001b[0m\u001b[1;33m[\u001b[0m\u001b[0ma\u001b[0m\u001b[1;33m]\u001b[0m\u001b[1;33m[\u001b[0m\u001b[0mb\u001b[0m\u001b[1;33m]\u001b[0m \u001b[1;32mfor\u001b[0m \u001b[0mb\u001b[0m \u001b[1;32min\u001b[0m \u001b[0mrange\u001b[0m\u001b[1;33m(\u001b[0m\u001b[1;36m0\u001b[0m\u001b[1;33m,\u001b[0m\u001b[0mlen\u001b[0m\u001b[1;33m(\u001b[0m\u001b[0mX_train\u001b[0m\u001b[1;33m)\u001b[0m\u001b[1;33m)\u001b[0m\u001b[1;33m]\u001b[0m\u001b[1;33m\u001b[0m\u001b[0m\n\u001b[0m\u001b[0;32m     11\u001b[0m         \u001b[0mxa\u001b[0m\u001b[1;33m=\u001b[0m\u001b[0mxa0\u001b[0m\u001b[1;33m+\u001b[0m\u001b[0mxademas\u001b[0m\u001b[1;33m\u001b[0m\u001b[0m\n\u001b[0;32m     12\u001b[0m         \u001b[0mya\u001b[0m\u001b[1;33m=\u001b[0m\u001b[0my_aprendizaje\u001b[0m\u001b[1;33m\u001b[0m\u001b[0m\n",
      "\u001b[1;31mIndexError\u001b[0m: index 38 is out of bounds for axis 0 with size 38"
     ]
    }
   ],
   "source": [
    "lambdas=np.array([0,0.1,0.001]) #Lambdas que se van a probar\n",
    "errores=[]\n",
    "for i in range(len(lambdas)):\n",
    "    err=[]\n",
    "    ##Se aleatorian los pesos para comparar lambdas optimaz\n",
    "    w=[uniform(-5,5) for q in range(len(X_train)+1)]\n",
    "    eta=0.005 #fija el parametro de aceleración\n",
    "    for a in range(0,len(ConjuntoAprendEscalado[j])):\n",
    "        xa0=[1]\n",
    "        xademas=[ConjuntoAprendEscalado[j][a][b] for b in range(0,len(X_train))]\n",
    "        xa=xa0+xademas\n",
    "        ya=y_aprendizaje\n",
    "        error_actual = ya - Va(xa,w)\n",
    "        # actualizas UNA vez para el dato i\n",
    "        for b in range(len(w)):\n",
    "            w[b]=w[b]+eta*error_actual*xa[b]-lambdas[i]*w[b]\n",
    "    #error\n",
    "    err.append(errorK(w,j))\n",
    "    print(\"Para lambda = {0}, el error es: {1}\".format(lamdas[i],sum(errores)))\n",
    "    errores.append(errorK(w,j))\n",
    "    "
   ]
  },
  {
   "cell_type": "code",
   "execution_count": 50,
   "metadata": {},
   "outputs": [
    {
     "ename": "IndexError",
     "evalue": "index 694 is out of bounds for axis 0 with size 694",
     "output_type": "error",
     "traceback": [
      "\u001b[1;31m---------------------------------------------------------------------------\u001b[0m",
      "\u001b[1;31mIndexError\u001b[0m                                Traceback (most recent call last)",
      "\u001b[1;32m<ipython-input-50-e2f9138daa11>\u001b[0m in \u001b[0;36m<module>\u001b[1;34m()\u001b[0m\n\u001b[0;32m     25\u001b[0m         \u001b[0mtty2\u001b[0m\u001b[1;33m=\u001b[0m\u001b[0mtrain_Y\u001b[0m\u001b[1;33m[\u001b[0m\u001b[0mlower_bound\u001b[0m\u001b[1;33m:\u001b[0m\u001b[0mupper_bound\u001b[0m\u001b[1;33m-\u001b[0m\u001b[1;36m1\u001b[0m\u001b[1;33m]\u001b[0m\u001b[1;33m\u001b[0m\u001b[0m\n\u001b[0;32m     26\u001b[0m         \u001b[0mtrx2\u001b[0m\u001b[1;33m,\u001b[0m \u001b[0mttx2\u001b[0m\u001b[1;33m,\u001b[0m \u001b[0mtry2\u001b[0m\u001b[1;33m,\u001b[0m \u001b[0mtty2\u001b[0m\u001b[1;33m=\u001b[0m\u001b[0mnormalize\u001b[0m\u001b[1;33m(\u001b[0m\u001b[0mtrx2\u001b[0m\u001b[1;33m,\u001b[0m\u001b[0mttx2\u001b[0m\u001b[1;33m,\u001b[0m\u001b[0mtry2\u001b[0m\u001b[1;33m,\u001b[0m\u001b[0mtty2\u001b[0m\u001b[1;33m)\u001b[0m\u001b[1;33m\u001b[0m\u001b[0m\n\u001b[1;32m---> 27\u001b[1;33m         \u001b[0mw\u001b[0m\u001b[1;33m=\u001b[0m\u001b[0mentrena\u001b[0m\u001b[1;33m(\u001b[0m\u001b[0mtrx2\u001b[0m\u001b[1;33m,\u001b[0m\u001b[0mtry2\u001b[0m\u001b[1;33m,\u001b[0m\u001b[0mw\u001b[0m\u001b[1;33m,\u001b[0m\u001b[0mla\u001b[0m\u001b[1;33m=\u001b[0m\u001b[0mlam\u001b[0m\u001b[1;33m)\u001b[0m\u001b[1;33m\u001b[0m\u001b[0m\n\u001b[0m\u001b[0;32m     28\u001b[0m         \u001b[0mtrers\u001b[0m\u001b[1;33m[\u001b[0m\u001b[0mlam\u001b[0m\u001b[1;33m]\u001b[0m\u001b[1;33m.\u001b[0m\u001b[0mappend\u001b[0m\u001b[1;33m(\u001b[0m\u001b[0mcalcError\u001b[0m\u001b[1;33m(\u001b[0m\u001b[0mtrx2\u001b[0m\u001b[1;33m,\u001b[0m\u001b[0mtry2\u001b[0m\u001b[1;33m.\u001b[0m\u001b[0mflatten\u001b[0m\u001b[1;33m(\u001b[0m\u001b[1;33m)\u001b[0m\u001b[1;33m,\u001b[0m\u001b[0mw\u001b[0m\u001b[1;33m[\u001b[0m\u001b[1;36m1\u001b[0m\u001b[1;33m:\u001b[0m\u001b[1;33m]\u001b[0m\u001b[1;33m,\u001b[0m\u001b[0mw\u001b[0m\u001b[1;33m[\u001b[0m\u001b[1;36m0\u001b[0m\u001b[1;33m]\u001b[0m\u001b[1;33m)\u001b[0m\u001b[1;33m)\u001b[0m\u001b[1;33m\u001b[0m\u001b[0m\n\u001b[0;32m     29\u001b[0m         \u001b[0mtters\u001b[0m\u001b[1;33m[\u001b[0m\u001b[0mlam\u001b[0m\u001b[1;33m]\u001b[0m\u001b[1;33m.\u001b[0m\u001b[0mappend\u001b[0m\u001b[1;33m(\u001b[0m\u001b[0mcalcError\u001b[0m\u001b[1;33m(\u001b[0m\u001b[0mttx2\u001b[0m\u001b[1;33m,\u001b[0m\u001b[0mtty2\u001b[0m\u001b[1;33m.\u001b[0m\u001b[0mflatten\u001b[0m\u001b[1;33m(\u001b[0m\u001b[1;33m)\u001b[0m\u001b[1;33m,\u001b[0m\u001b[0mw\u001b[0m\u001b[1;33m[\u001b[0m\u001b[1;36m1\u001b[0m\u001b[1;33m:\u001b[0m\u001b[1;33m]\u001b[0m\u001b[1;33m,\u001b[0m\u001b[0mw\u001b[0m\u001b[1;33m[\u001b[0m\u001b[1;36m0\u001b[0m\u001b[1;33m]\u001b[0m\u001b[1;33m)\u001b[0m\u001b[1;33m)\u001b[0m\u001b[1;33m\u001b[0m\u001b[0m\n",
      "\u001b[1;32m<ipython-input-41-1e57efaa6338>\u001b[0m in \u001b[0;36mentrena\u001b[1;34m(X, y, w, la, eta)\u001b[0m\n\u001b[0;32m      3\u001b[0m \u001b[1;33m\u001b[0m\u001b[0m\n\u001b[0;32m      4\u001b[0m     \u001b[1;32mfor\u001b[0m \u001b[0mi\u001b[0m \u001b[1;32min\u001b[0m \u001b[0mrange\u001b[0m\u001b[1;33m(\u001b[0m\u001b[0mlen\u001b[0m\u001b[1;33m(\u001b[0m\u001b[0mX\u001b[0m\u001b[1;33m)\u001b[0m\u001b[1;33m-\u001b[0m\u001b[1;36m1\u001b[0m\u001b[1;33m)\u001b[0m\u001b[1;33m:\u001b[0m\u001b[1;33m\u001b[0m\u001b[0m\n\u001b[1;32m----> 5\u001b[1;33m         \u001b[0merror\u001b[0m\u001b[1;33m=\u001b[0m\u001b[0my\u001b[0m\u001b[1;33m[\u001b[0m\u001b[0mi\u001b[0m\u001b[1;33m]\u001b[0m\u001b[1;33m-\u001b[0m\u001b[0msalida\u001b[0m\u001b[1;33m(\u001b[0m\u001b[0mw\u001b[0m\u001b[1;33m,\u001b[0m\u001b[0mX\u001b[0m\u001b[1;33m[\u001b[0m\u001b[0mi\u001b[0m\u001b[1;33m]\u001b[0m\u001b[1;33m)\u001b[0m\u001b[1;33m\u001b[0m\u001b[0m\n\u001b[0m\u001b[0;32m      6\u001b[0m         \u001b[0mw\u001b[0m\u001b[1;33m[\u001b[0m\u001b[1;36m0\u001b[0m\u001b[1;33m]\u001b[0m\u001b[1;33m=\u001b[0m\u001b[0mw\u001b[0m\u001b[1;33m[\u001b[0m\u001b[1;36m0\u001b[0m\u001b[1;33m]\u001b[0m\u001b[1;33m+\u001b[0m\u001b[0meta\u001b[0m\u001b[1;33m*\u001b[0m\u001b[0merror\u001b[0m\u001b[1;33m\u001b[0m\u001b[0m\n\u001b[0;32m      7\u001b[0m         \u001b[0mw\u001b[0m\u001b[1;33m[\u001b[0m\u001b[1;36m1\u001b[0m\u001b[1;33m:\u001b[0m\u001b[1;33m]\u001b[0m\u001b[1;33m=\u001b[0m\u001b[0mw\u001b[0m\u001b[1;33m[\u001b[0m\u001b[1;36m1\u001b[0m\u001b[1;33m:\u001b[0m\u001b[1;33m]\u001b[0m\u001b[1;33m+\u001b[0m\u001b[0meta\u001b[0m\u001b[1;33m*\u001b[0m\u001b[1;33m(\u001b[0m\u001b[0merror\u001b[0m\u001b[1;33m*\u001b[0m\u001b[0mX\u001b[0m\u001b[1;33m[\u001b[0m\u001b[0mi\u001b[0m\u001b[1;33m]\u001b[0m\u001b[1;33m)\u001b[0m\u001b[1;33m-\u001b[0m\u001b[0mla\u001b[0m\u001b[1;33m*\u001b[0m\u001b[0mw\u001b[0m\u001b[1;33m[\u001b[0m\u001b[1;36m1\u001b[0m\u001b[1;33m:\u001b[0m\u001b[1;33m]\u001b[0m\u001b[1;33m\u001b[0m\u001b[0m\n",
      "\u001b[1;31mIndexError\u001b[0m: index 694 is out of bounds for axis 0 with size 694"
     ]
    }
   ],
   "source": [
    "trers=dict()\n",
    "tters=dict()\n",
    "testerrs=[]\n",
    "trainingerrs=[]\n",
    "lams=[]\n",
    "for lam2 in range(500):\n",
    "    lam=lam2/10000.0\n",
    "    trers[lam]=[]\n",
    "    tters[lam]=[]\n",
    "    lams.append(lam)\n",
    "    for k in range(10):\n",
    "        lower_bound=int(math.floor(k*(len(train_X)/10)))\n",
    "        upper_bound=int(math.floor((k+1)*(len(train_X)/10)))\n",
    "        if lower_bound>0 and upper_bound<len(train_X):\n",
    "            trx2=np.concatenate([train_X[0:lower_bound-1],train_X[upper_bound:len(train_X)]])\n",
    "            try2=np.concatenate([train_Y[0:lower_bound-1],train_Y[upper_bound:len(train_X)]])\n",
    "        else:\n",
    "            if lower_bound>0:\n",
    "                trx2=train_X[0:lower_bound-1]\n",
    "                try2=train_Y[0:lower_bound-1]\n",
    "            else:\n",
    "                trx2=train_X[lower_bound:]\n",
    "                try2=train_Y[upper_bound:]\n",
    "        ttx2=train_X[lower_bound:upper_bound-1]\n",
    "        tty2=train_Y[lower_bound:upper_bound-1]\n",
    "        trx2, ttx2, try2, tty2=normalize(trx2,ttx2,try2,tty2)\n",
    "        w=entrena(trx2,try2,w,la=lam)\n",
    "        trers[lam].append(calcError(trx2,try2.flatten(),w[1:],w[0]))\n",
    "        tters[lam].append(calcError(ttx2,tty2.flatten(),w[1:],w[0]))\n",
    "        testerrs.append(np.mean(tters[lam]))\n",
    "        trainingers.append(np.mean(trers[lam]))\n",
    "        \n",
    "        \n",
    "        \n",
    "\n"
   ]
  },
  {
   "cell_type": "code",
   "execution_count": 49,
   "metadata": {
    "collapsed": true
   },
   "outputs": [],
   "source": []
  },
  {
   "cell_type": "code",
   "execution_count": 1,
   "metadata": {
    "collapsed": true
   },
   "outputs": [],
   "source": [
    "?dict()"
   ]
  },
  {
   "cell_type": "code",
   "execution_count": null,
   "metadata": {
    "collapsed": true
   },
   "outputs": [],
   "source": []
  }
 ],
 "metadata": {
  "kernelspec": {
   "display_name": "Python 3",
   "language": "python",
   "name": "python3"
  },
  "language_info": {
   "codemirror_mode": {
    "name": "ipython",
    "version": 3
   },
   "file_extension": ".py",
   "mimetype": "text/x-python",
   "name": "python",
   "nbconvert_exporter": "python",
   "pygments_lexer": "ipython3",
   "version": "3.6.1"
  }
 },
 "nbformat": 4,
 "nbformat_minor": 2
}
